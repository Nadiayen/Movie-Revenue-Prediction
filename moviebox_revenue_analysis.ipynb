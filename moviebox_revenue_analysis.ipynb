{
 "cells": [
  {
   "cell_type": "markdown",
   "metadata": {},
   "source": [
    "<hr style=\"border:2px solid black\">\n",
    "\n",
    "# Question 1\n",
    "### Plot histograms of the continous variables (box, budget, starpwr) to see if any transformations are needed. Are any of them skewed? Apply a log-transformation to all the skewed variables.\n",
    "\n",
    "<hr style=\"border:1px solid black\">"
   ]
  },
  {
   "cell_type": "markdown",
   "metadata": {},
   "source": [
    "1.1. Import Libraries"
   ]
  },
  {
   "cell_type": "code",
   "execution_count": 1,
   "metadata": {},
   "outputs": [],
   "source": [
    "import os\n",
    "import pandas as pd\n",
    "import matplotlib.pyplot as plt\n",
    "import numpy as np\n",
    "from numpy.linalg import eigh\n",
    "import sklearn.preprocessing as prep\n",
    "from sklearn.decomposition import PCA\n",
    "import statsmodels.api as sm\n",
    "from sklearn.preprocessing import PowerTransformer"
   ]
  },
  {
   "cell_type": "markdown",
   "metadata": {},
   "source": [
    "1.2. Load dataset with pandas"
   ]
  },
  {
   "cell_type": "code",
   "execution_count": 2,
   "metadata": {},
   "outputs": [],
   "source": [
    "os.chdir('/Users/carolinajaime')\n",
    "og_df = pd.read_csv('/Users/carolinajaime/Downloads/boxOffice.csv')"
   ]
  },
  {
   "cell_type": "markdown",
   "metadata": {},
   "source": [
    "1.3. Arrange histograms side by side, add titles. "
   ]
  },
  {
   "cell_type": "code",
   "execution_count": 3,
   "metadata": {},
   "outputs": [
    {
     "data": {
      "text/plain": [
       "Text(0.5, 1.0, 'Starpower')"
      ]
     },
     "execution_count": 3,
     "metadata": {},
     "output_type": "execute_result"
    },
    {
     "data": {
      "image/png": "[encoded data removed]",
      "text/plain": [
       "<Figure size 648x216 with 3 Axes>"
      ]
     },
     "metadata": {
      "needs_background": "light"
     },
     "output_type": "display_data"
    }
   ],
   "source": [
    "#create a grid 1x3 to align all three histograms. \n",
    "fig, axs = plt.subplots(1, 3, figsize=(9, 3), sharey=True)\n",
    "#place each histogram, with corresponding titles.\n",
    "axs[0].hist(og_df['box'])\n",
    "axs[0].set_title(\"Box Revenue\")\n",
    "axs[1].hist(og_df['budget'])\n",
    "axs[1].set_title(\"Budget\")\n",
    "axs[2].hist(og_df['starpowr'])\n",
    "axs[2].set_title(\"Starpower\")"
   ]
  },
  {
   "cell_type": "markdown",
   "metadata": {},
   "source": [
    "Starpower appears to be normally distributed. \n",
    "However, both budget and box are positively skewed, with outliers to their right. We will apply a logarithmic scale to Box Revenue and Budget to create a relatively more normally distributed histogram. "
   ]
  },
  {
   "cell_type": "markdown",
   "metadata": {},
   "source": [
    "1.4. Apply log scale to Box Revenue and Budget using Numpy. "
   ]
  },
  {
   "cell_type": "code",
   "execution_count": 4,
   "metadata": {},
   "outputs": [],
   "source": [
    "#create a copy of the raw data (og_data)\n",
    "l_df = og_df.copy()\n",
    "#log. transofrm box and budget\n",
    "l_df['box'] = np.log(l_df['box'])\n",
    "l_df['budget'] = np.log(l_df['budget'])"
   ]
  },
  {
   "cell_type": "markdown",
   "metadata": {},
   "source": [
    "1.5. Plot histograms of final versions of variables: Box Revenue (log) , Budget (log) & Starpower."
   ]
  },
  {
   "cell_type": "code",
   "execution_count": 5,
   "metadata": {},
   "outputs": [
    {
     "data": {
      "text/plain": [
       "Text(0.5, 1.0, 'Starpower')"
      ]
     },
     "execution_count": 5,
     "metadata": {},
     "output_type": "execute_result"
    },
    {
     "data": {
      "image/png": "[encoded data removed]",
      "text/plain": [
       "<Figure size 648x216 with 3 Axes>"
      ]
     },
     "metadata": {
      "needs_background": "light"
     },
     "output_type": "display_data"
    }
   ],
   "source": [
    "#create a grid 1x3 to align all three histograms. \n",
    "fig, axs = plt.subplots(1, 3, figsize=(9, 3), sharey=True)\n",
    "#place each histogram, with corresponding titles. Note the (log.) note for transformed variables. \n",
    "axs[0].hist(l_df['box'])\n",
    "axs[0].set_title(\"Box Revenue (log.)\")\n",
    "axs[1].hist(l_df['budget'])\n",
    "axs[1].set_title(\"Budget (log.)\")\n",
    "axs[2].hist(l_df['starpowr'])\n",
    "axs[2].set_title(\"Starpower\")"
   ]
  },
  {
   "cell_type": "markdown",
   "metadata": {},
   "source": [
    "All three variables (Box Revenue, Budget, Starpower) now appear to have relatively normal distributions."
   ]
  },
  {
   "cell_type": "markdown",
   "metadata": {},
   "source": [
    "<hr style=\"border:2px solid black\">\n",
    "\n",
    "# Question 2\n",
    "### Run a linear regression of box office revenues on the “traditional” variables (i.e., using all the independent variables (except the “buzz” variables). If any variables were transformed, be sure to use the transformed versions of those variables. What are the R2 and adjusted-R2 values? Which variables (if any) are significant at the 0.10 level, based on the t-statistics and associated probabilities (P>|t|)?\n",
    "\n",
    "<hr style=\"border:1px solid black\">"
   ]
  },
  {
   "cell_type": "markdown",
   "metadata": {},
   "source": [
    "2.1. Lay out dependent and independent variables for regression."
   ]
  },
  {
   "cell_type": "code",
   "execution_count": 6,
   "metadata": {},
   "outputs": [],
   "source": [
    "#determine dependent variable Box as y. Utilize the dataset that holds the transformed variables (l_data).\n",
    "y = l_df['box']\n",
    "#create copy of l_data, named X. X will hold ONLY the \"traditional\" variables.\n",
    "X = l_df.copy()\n",
    "#drop the columns of non-traditional variables, and of the dependent variable.\n",
    "X = X.drop(['box', 'addict','cmngsoon', 'fandango', 'cntwait3'], axis =1)\n",
    "#add constant =1\n",
    "X['const'] = 1.0"
   ]
  },
  {
   "cell_type": "markdown",
   "metadata": {},
   "source": [
    "2.2. Run regression #1"
   ]
  },
  {
   "cell_type": "code",
   "execution_count": 7,
   "metadata": {},
   "outputs": [
    {
     "name": "stdout",
     "output_type": "stream",
     "text": [
      "                            OLS Regression Results                            \n",
      "==============================================================================\n",
      "Dep. Variable:                    box   R-squared:                       0.342\n",
      "Model:                            OLS   Adj. R-squared:                  0.214\n",
      "Method:                 Least Squares   F-statistic:                     2.656\n",
      "Date:                Sun, 11 Sep 2022   Prob (F-statistic):             0.0109\n",
      "Time:                        19:55:28   Log-Likelihood:                -70.832\n",
      "No. Observations:                  62   AIC:                             163.7\n",
      "Df Residuals:                      51   BIC:                             187.1\n",
      "Df Model:                          10                                         \n",
      "Covariance Type:            nonrobust                                         \n",
      "==============================================================================\n",
      "                 coef    std err          t      P>|t|      [0.025      0.975]\n",
      "------------------------------------------------------------------------------\n",
      "G              0.2524      0.692      0.365      0.717      -1.137       1.642\n",
      "PG             0.3297      0.372      0.885      0.380      -0.418       1.077\n",
      "PG13           0.0718      0.272      0.264      0.793      -0.474       0.618\n",
      "budget         0.7091      0.208      3.407      0.001       0.291       1.127\n",
      "starpowr       0.0065      0.016      0.403      0.689      -0.026       0.039\n",
      "sequel         0.6437      0.331      1.942      0.058      -0.022       1.309\n",
      "action        -0.3068      0.344     -0.892      0.377      -0.997       0.384\n",
      "comedy        -0.0385      0.321     -0.120      0.905      -0.682       0.605\n",
      "animated      -0.8203      0.539     -1.523      0.134      -1.902       0.261\n",
      "horror         1.0264      0.440      2.332      0.024       0.143       1.910\n",
      "const         13.5768      0.688     19.727      0.000      12.195      14.959\n",
      "==============================================================================\n",
      "Omnibus:                        7.632   Durbin-Watson:                   2.080\n",
      "Prob(Omnibus):                  0.022   Jarque-Bera (JB):                7.280\n",
      "Skew:                          -0.626   Prob(JB):                       0.0262\n",
      "Kurtosis:                       4.119   Cond. No.                         153.\n",
      "==============================================================================\n",
      "\n",
      "Warnings:\n",
      "[1] Standard Errors assume that the covariance matrix of the errors is correctly specified.\n"
     ]
    }
   ],
   "source": [
    "#run regression\n",
    "linregr1 = sm.OLS(y, X).fit()\n",
    "#print regression results\n",
    "print(linregr1.summary())"
   ]
  },
  {
   "cell_type": "markdown",
   "metadata": {},
   "source": [
    "2.3. Results"
   ]
  },
  {
   "attachments": {},
   "cell_type": "markdown",
   "metadata": {},
   "source": [
    "In Regression #1, we found that R-square = 0.342 and Adj. R-square = 0.214. We found that the variables that were significant at the 0.10 level were: \n",
    "-\tBudget, where P-value = 0.001 < 0.10\n",
    "-\tSequel, where P-value = 0.058 < 0.10\n",
    "-\tHorror, where P-value = 0.024 < 0.10"
   ]
  },
  {
   "cell_type": "markdown",
   "metadata": {},
   "source": [
    "<hr style=\"border:2px solid black\">\n",
    "\n",
    "# Question 3\n",
    "###  Run another linear regression using only the variables that were significant (again, ignoring the “buzz” variables). What are the R2 and adjusted-R2 values? Are all the variables still significant at the 0.10 level?\n",
    "\n",
    "<hr style=\"border:1px solid black\">"
   ]
  },
  {
   "cell_type": "markdown",
   "metadata": {},
   "source": [
    "3.1 Create a copy of dataset"
   ]
  },
  {
   "cell_type": "code",
   "execution_count": 8,
   "metadata": {},
   "outputs": [],
   "source": [
    "#create copy of dataset, where we will store variable: Budget, Sequel, Horror.\n",
    "X1=X.copy()\n",
    "#drop insignificant variables\n",
    "X1=X1.drop(['G','PG','PG13','starpowr','action','comedy','animated'], axis=1)"
   ]
  },
  {
   "cell_type": "markdown",
   "metadata": {},
   "source": [
    "3.2. Run Regression #2"
   ]
  },
  {
   "cell_type": "code",
   "execution_count": 9,
   "metadata": {},
   "outputs": [
    {
     "name": "stdout",
     "output_type": "stream",
     "text": [
      "                            OLS Regression Results                            \n",
      "==============================================================================\n",
      "Dep. Variable:                    box   R-squared:                       0.291\n",
      "Model:                            OLS   Adj. R-squared:                  0.254\n",
      "Method:                 Least Squares   F-statistic:                     7.929\n",
      "Date:                Sun, 11 Sep 2022   Prob (F-statistic):           0.000162\n",
      "Time:                        19:55:28   Log-Likelihood:                -73.175\n",
      "No. Observations:                  62   AIC:                             154.4\n",
      "Df Residuals:                      58   BIC:                             162.9\n",
      "Df Model:                           3                                         \n",
      "Covariance Type:            nonrobust                                         \n",
      "==============================================================================\n",
      "                 coef    std err          t      P>|t|      [0.025      0.975]\n",
      "------------------------------------------------------------------------------\n",
      "budget         0.6568      0.159      4.124      0.000       0.338       0.976\n",
      "sequel         0.4994      0.298      1.676      0.099      -0.097       1.096\n",
      "horror         0.9908      0.385      2.574      0.013       0.220       1.761\n",
      "const         13.8718      0.611     22.700      0.000      12.649      15.095\n",
      "==============================================================================\n",
      "Omnibus:                       17.577   Durbin-Watson:                   2.065\n",
      "Prob(Omnibus):                  0.000   Jarque-Bera (JB):               28.607\n",
      "Skew:                          -0.969   Prob(JB):                     6.14e-07\n",
      "Kurtosis:                       5.704   Cond. No.                         25.1\n",
      "==============================================================================\n",
      "\n",
      "Warnings:\n",
      "[1] Standard Errors assume that the covariance matrix of the errors is correctly specified.\n"
     ]
    }
   ],
   "source": [
    "#run regression\n",
    "linregr2 = sm.OLS(y, X1).fit()\n",
    "print(linregr2.summary())"
   ]
  },
  {
   "cell_type": "markdown",
   "metadata": {},
   "source": [
    "3.3. Results"
   ]
  },
  {
   "attachments": {},
   "cell_type": "markdown",
   "metadata": {},
   "source": [
    "In Regression #2, we found that R-square = 0.291 and Adj. R-square = 0.254. We found that the variables that were significant at the 0.10 level were: \n",
    "-\tBudget, where P-value = 0.000 < 0.10\n",
    "-\tHorror, where P-value = 0.013 < 0.10\n",
    "-\tSequel, where P-value = 0.099 < 0.10"
   ]
  },
  {
   "cell_type": "markdown",
   "metadata": {},
   "source": [
    "<hr style=\"border:2px solid black\">\n",
    "\n",
    "# Question 4\n",
    "### Plot histograms of the four “buzz” variables. Are any of them skewed? Apply a log-transformation to all the skewed variables.\n",
    "\n",
    "<hr style=\"border:1px solid black\">"
   ]
  },
  {
   "cell_type": "markdown",
   "metadata": {},
   "source": [
    "4.1. Arrange histograms side by side, add titles. "
   ]
  },
  {
   "cell_type": "code",
   "execution_count": 10,
   "metadata": {},
   "outputs": [
    {
     "data": {
      "text/plain": [
       "Text(0.5, 1.0, 'Cntwait3')"
      ]
     },
     "execution_count": 10,
     "metadata": {},
     "output_type": "execute_result"
    },
    {
     "data": {
      "image/png": "[encoded data removed]",
      "text/plain": [
       "<Figure size 648x216 with 4 Axes>"
      ]
     },
     "metadata": {
      "needs_background": "light"
     },
     "output_type": "display_data"
    }
   ],
   "source": [
    "#create a grid 1x4 to align all three histograms. \n",
    "fig, axs = plt.subplots(1, 4, figsize=(9, 3), sharey=True)\n",
    "#place each histogram, with corresponding titles. Note the (log.) note for transformed variables. \n",
    "axs[0].hist(og_df['addict'])\n",
    "axs[0].set_title(\"Addict (r-skew)\") #right skewed\n",
    "axs[1].hist(og_df['cmngsoon'])\n",
    "axs[1].set_title(\"Cmngsoon (r-skew)\") #right skewed\n",
    "axs[2].hist(og_df['fandango'])\n",
    "axs[2].set_title(\"Fandango (r-skew)\") #right skewed\n",
    "axs[3].hist(og_df['cntwait3'])\n",
    "axs[3].set_title(\"Cntwait3\") #normal distribution"
   ]
  },
  {
   "cell_type": "markdown",
   "metadata": {},
   "source": [
    "Cntwait3 appears to be normally distributed. \n",
    "However, addict, cmngsoon and fandango are positively skewed, with outliers to their right. We will apply a logarithmic scale to addict, cmngsoon and fandango to create a more normally distributed histogram. "
   ]
  },
  {
   "cell_type": "markdown",
   "metadata": {},
   "source": [
    "4.2. Apply log scale to Addict, Cmngsoon and Fandango using Numpy. "
   ]
  },
  {
   "cell_type": "code",
   "execution_count": 11,
   "metadata": {},
   "outputs": [],
   "source": [
    "#create new dataframe for lbuzz\n",
    "lbuzz_df=l_df.copy()\n",
    "#Transform addict, cmngsoon, and Fandango\n",
    "lbuzz_df['addict'] = np.log(lbuzz_df['addict'])\n",
    "lbuzz_df['cmngsoon'] = np.log(lbuzz_df['cmngsoon'])\n",
    "lbuzz_df['fandango'] = np.log(lbuzz_df['fandango'])"
   ]
  },
  {
   "cell_type": "markdown",
   "metadata": {},
   "source": [
    "4.3. Plot histograms of final versions of variables: Box Revenue (log) , Budget (log) & Starpower."
   ]
  },
  {
   "cell_type": "code",
   "execution_count": 12,
   "metadata": {},
   "outputs": [
    {
     "data": {
      "text/plain": [
       "Text(0.5, 1.0, 'Cntwait3')"
      ]
     },
     "execution_count": 12,
     "metadata": {},
     "output_type": "execute_result"
    },
    {
     "data": {
      "image/png": "[encoded data removed]",
      "text/plain": [
       "<Figure size 648x216 with 4 Axes>"
      ]
     },
     "metadata": {
      "needs_background": "light"
     },
     "output_type": "display_data"
    }
   ],
   "source": [
    "#create a grid 1x4 to align all three histograms. \n",
    "fig, axs = plt.subplots(1, 4, figsize=(9, 3), sharey=True)\n",
    "#place each histogram, with corresponding titles. Note the (log.) note for transformed variables. \n",
    "axs[0].hist(lbuzz_df['addict'])\n",
    "axs[0].set_title(\"Addict (log.)\") #right skewed\n",
    "axs[1].hist(lbuzz_df['cmngsoon'])\n",
    "axs[1].set_title(\"Cmngsoon (log.)\") #right skewed\n",
    "axs[2].hist(lbuzz_df['fandango'])\n",
    "axs[2].set_title(\"Fandango (log.)\") #right skewed\n",
    "axs[3].hist(lbuzz_df['cntwait3'])\n",
    "axs[3].set_title(\"Cntwait3\") #normal distribution"
   ]
  },
  {
   "cell_type": "markdown",
   "metadata": {},
   "source": [
    "All buzz variables now appear to have relatively normal distributions."
   ]
  },
  {
   "cell_type": "markdown",
   "metadata": {},
   "source": [
    "<hr style=\"border:2px solid black\">\n",
    "\n",
    "# Question 5\n",
    "### Run a linear regression of box office revenues on all the independent variables (transformed as needed). What are the R2 and adjusted-R2 values? Which variables (if any) are significant at the 0.10 level, based on the t-statistics and associated probabilities (P>|t|)?\n",
    "\n",
    "<hr style=\"border:1px solid black\">"
   ]
  },
  {
   "cell_type": "markdown",
   "metadata": {},
   "source": [
    "5.1 Prepare dataset before running regression"
   ]
  },
  {
   "cell_type": "code",
   "execution_count": 13,
   "metadata": {},
   "outputs": [],
   "source": [
    "#first, let's make a copy of the dataset with all the log transformations\n",
    "logdf=lbuzz_df.copy()"
   ]
  },
  {
   "cell_type": "code",
   "execution_count": 14,
   "metadata": {},
   "outputs": [],
   "source": [
    "#drop only dependent variable from df\n",
    "logdf=logdf.drop(['box'], axis=1)\n",
    "logdf['const']=1"
   ]
  },
  {
   "cell_type": "markdown",
   "metadata": {},
   "source": [
    "5.2. Run Regression #3"
   ]
  },
  {
   "cell_type": "code",
   "execution_count": 15,
   "metadata": {},
   "outputs": [
    {
     "name": "stdout",
     "output_type": "stream",
     "text": [
      "                            OLS Regression Results                            \n",
      "==============================================================================\n",
      "Dep. Variable:                    box   R-squared:                       0.624\n",
      "Model:                            OLS   Adj. R-squared:                  0.512\n",
      "Method:                 Least Squares   F-statistic:                     5.576\n",
      "Date:                Sun, 11 Sep 2022   Prob (F-statistic):           3.77e-06\n",
      "Time:                        19:55:29   Log-Likelihood:                -53.492\n",
      "No. Observations:                  62   AIC:                             137.0\n",
      "Df Residuals:                      47   BIC:                             168.9\n",
      "Df Model:                          14                                         \n",
      "Covariance Type:            nonrobust                                         \n",
      "==============================================================================\n",
      "                 coef    std err          t      P>|t|      [0.025      0.975]\n",
      "------------------------------------------------------------------------------\n",
      "G              0.6375      0.600      1.063      0.293      -0.569       1.844\n",
      "PG             0.6054      0.316      1.913      0.062      -0.031       1.242\n",
      "PG13           0.2171      0.220      0.986      0.329      -0.226       0.660\n",
      "budget         0.2344      0.187      1.256      0.215      -0.141       0.610\n",
      "starpowr       0.0012      0.013      0.089      0.930      -0.026       0.028\n",
      "sequel         0.4277      0.305      1.402      0.167      -0.186       1.041\n",
      "action        -0.8419      0.301     -2.801      0.007      -1.447      -0.237\n",
      "comedy        -0.0720      0.255     -0.282      0.779      -0.586       0.442\n",
      "animated      -0.8965      0.437     -2.050      0.046      -1.776      -0.017\n",
      "horror         0.3233      0.370      0.874      0.386      -0.421       1.067\n",
      "addict         0.2946      0.135      2.175      0.035       0.022       0.567\n",
      "cmngsoon       0.0588      0.134      0.439      0.663      -0.211       0.328\n",
      "fandango       0.0274      0.117      0.235      0.815      -0.207       0.262\n",
      "cntwait3       2.5943      0.927      2.798      0.007       0.729       4.459\n",
      "const         11.4958      0.993     11.581      0.000       9.499      13.493\n",
      "==============================================================================\n",
      "Omnibus:                        1.099   Durbin-Watson:                   2.087\n",
      "Prob(Omnibus):                  0.577   Jarque-Bera (JB):                0.502\n",
      "Skew:                          -0.150   Prob(JB):                        0.778\n",
      "Kurtosis:                       3.322   Cond. No.                         304.\n",
      "==============================================================================\n",
      "\n",
      "Warnings:\n",
      "[1] Standard Errors assume that the covariance matrix of the errors is correctly specified.\n"
     ]
    }
   ],
   "source": [
    "#run the regression \n",
    "linregr3 = sm.OLS(y, logdf).fit()\n",
    "print(linregr3.summary())"
   ]
  },
  {
   "attachments": {},
   "cell_type": "markdown",
   "metadata": {},
   "source": [
    "In Regression #3, we found that R-square = 0.624 and Adj. R-square = 0.512. We found that the variables that were statistically significant at the 0.10 level were: \n",
    "-\tPG, where P-value = 0.069 < 0.10\n",
    "-\tAddict, where P-value = 0.039 < 0.10\n",
    "-\tCntwait3, where P-value = 0.002 < 0.10\n",
    "-\tAction, where P-value = 0.007 < 0.10\n",
    "-\tAnimated, where P-value = 0.046 < 0.10"
   ]
  },
  {
   "cell_type": "markdown",
   "metadata": {},
   "source": [
    "<hr style=\"border:2px solid black\">\n",
    "\n",
    "# Question 6\n",
    "### Run another linear regression using only the variables that were significant. What are the R2 and adjusted-R2 values? Are all the variables still significant at the 0.10 level?\n",
    "\n",
    "<hr style=\"border:1px solid black\">"
   ]
  },
  {
   "cell_type": "markdown",
   "metadata": {},
   "source": [
    "6.1 Prepare dataframe before running Regression"
   ]
  },
  {
   "cell_type": "code",
   "execution_count": 16,
   "metadata": {},
   "outputs": [],
   "source": [
    "logdf1=logdf.copy()\n",
    "logdf1=logdf1.drop(['G','PG13','budget','starpowr','sequel','comedy','horror','cmngsoon','fandango'], axis=1)"
   ]
  },
  {
   "cell_type": "markdown",
   "metadata": {},
   "source": [
    "6.2 Run Regression #4"
   ]
  },
  {
   "cell_type": "code",
   "execution_count": 17,
   "metadata": {},
   "outputs": [
    {
     "name": "stdout",
     "output_type": "stream",
     "text": [
      "                            OLS Regression Results                            \n",
      "==============================================================================\n",
      "Dep. Variable:                    box   R-squared:                       0.558\n",
      "Model:                            OLS   Adj. R-squared:                  0.519\n",
      "Method:                 Least Squares   F-statistic:                     14.15\n",
      "Date:                Sun, 11 Sep 2022   Prob (F-statistic):           6.06e-09\n",
      "Time:                        19:55:29   Log-Likelihood:                -58.512\n",
      "No. Observations:                  62   AIC:                             129.0\n",
      "Df Residuals:                      56   BIC:                             141.8\n",
      "Df Model:                           5                                         \n",
      "Covariance Type:            nonrobust                                         \n",
      "==============================================================================\n",
      "                 coef    std err          t      P>|t|      [0.025      0.975]\n",
      "------------------------------------------------------------------------------\n",
      "PG             0.3464      0.228      1.519      0.134      -0.110       0.803\n",
      "action        -0.6530      0.225     -2.896      0.005      -1.105      -0.201\n",
      "animated      -0.5455      0.322     -1.693      0.096      -1.191       0.100\n",
      "addict         0.2810      0.106      2.662      0.010       0.069       0.492\n",
      "cntwait3       3.7234      0.702      5.303      0.000       2.317       5.130\n",
      "const         12.5048      0.751     16.644      0.000      11.000      14.010\n",
      "==============================================================================\n",
      "Omnibus:                        1.995   Durbin-Watson:                   1.992\n",
      "Prob(Omnibus):                  0.369   Jarque-Bera (JB):                1.257\n",
      "Skew:                          -0.156   Prob(JB):                        0.533\n",
      "Kurtosis:                       3.624   Cond. No.                         80.9\n",
      "==============================================================================\n",
      "\n",
      "Warnings:\n",
      "[1] Standard Errors assume that the covariance matrix of the errors is correctly specified.\n"
     ]
    }
   ],
   "source": [
    "linregr4 = sm.OLS(y, logdf1).fit()\n",
    "print(linregr4.summary())"
   ]
  },
  {
   "cell_type": "markdown",
   "metadata": {},
   "source": [
    "6.3 Results"
   ]
  },
  {
   "cell_type": "markdown",
   "metadata": {},
   "source": [
    "In Regression #4, we found that R-square = 0.558 and Adj. R-square = 0.519. We found that the variables that were statistically significant at the 0.10 level were: \n",
    "-\tAction, where P-value = 0.005 < 0.10\n",
    "-\tAnimated, where P-value = 0.096 < 0.10\n",
    "-\tAddict, where P-value = 0.010 < 0.10\n",
    "-\tCntwait3, where P-value = 0.000 < 0.10\n",
    "Unfortunately, PG was no longer significant at the 0.10 level. "
   ]
  },
  {
   "cell_type": "markdown",
   "metadata": {},
   "source": [
    "<hr style=\"border:2px solid black\">\n",
    "\n",
    "# Question 7\n",
    "### Compare the models developed so far – which of these would you choose, and why?\n",
    "\n",
    "<hr style=\"border:1px solid black\">"
   ]
  },
  {
   "attachments": {},
   "cell_type": "markdown",
   "metadata": {},
   "source": [
    "Regression #4 from Q6 appears to be the best model so far, as it provides us with the highest Adj. R-square (0.519)."
   ]
  },
  {
   "cell_type": "markdown",
   "metadata": {},
   "source": [
    "<hr style=\"border:2px solid black\">\n",
    "\n",
    "# Question 8\n",
    "### Apply Principal Component Analysis to just the 4 “buzz” variables. If you transformed any of them, make sure you use the transformed versions. Also make sure that you standardize the variables first. What are the eigen values associated with each component? What fraction of the variance is explained by each component? How many principal components are selected using Kaiser’s Rule, and using “explained variance” thresholds of 60%, 70%, 80% and 90%?\n",
    "\n",
    "<hr style=\"border:1px solid black\">"
   ]
  },
  {
   "cell_type": "markdown",
   "metadata": {},
   "source": [
    "8.1. Create a copy of the dataframe and keep only buzz variables"
   ]
  },
  {
   "cell_type": "code",
   "execution_count": 18,
   "metadata": {},
   "outputs": [],
   "source": [
    "buzzdf=lbuzz_df.copy()\n",
    "buzzdf=buzzdf.drop(['box','G','PG','PG13','budget','sequel','starpowr','action','comedy','animated','horror'], axis=1)"
   ]
  },
  {
   "cell_type": "markdown",
   "metadata": {},
   "source": [
    "8.2. Standardize the data"
   ]
  },
  {
   "cell_type": "code",
   "execution_count": 19,
   "metadata": {},
   "outputs": [],
   "source": [
    "#standardize the data\n",
    "sc = prep.StandardScaler()\n",
    "sX = pd.DataFrame(sc.fit_transform(buzzdf), columns = buzzdf.columns)\n",
    "# StandardScaler uses the population variance/standard deviation\n",
    "# calculate the sample standard deviation of the result and scale by dividing with it \n",
    "sc.scale_ = np.std(sX, axis=0, ddof=1).to_list()\n",
    "#print(sc.scale_)\n",
    "sX = sX/sc.scale_"
   ]
  },
  {
   "cell_type": "markdown",
   "metadata": {},
   "source": [
    "8.3. Transform with PCA"
   ]
  },
  {
   "cell_type": "code",
   "execution_count": 20,
   "metadata": {},
   "outputs": [],
   "source": [
    "#create pca object\n",
    "#not specifying the number of components results in all variables being used\n",
    "pca4 = PCA()\n",
    "#pass the feature set \n",
    "#fit calculates parameters; transform applies the transformation\n",
    "pcs4 = pca4.fit_transform(sX)"
   ]
  },
  {
   "cell_type": "markdown",
   "metadata": {},
   "source": [
    "8.4. Calculate Eigen Values"
   ]
  },
  {
   "cell_type": "code",
   "execution_count": 21,
   "metadata": {},
   "outputs": [
    {
     "name": "stdout",
     "output_type": "stream",
     "text": [
      "\n",
      "Eigen Values of Correlation Matrix\n",
      "[2.41420026 0.77519959 0.45214886 0.3584513 ]\n"
     ]
    }
   ],
   "source": [
    "print('\\nEigen Values of Correlation Matrix')\n",
    "print(pca4.explained_variance_)"
   ]
  },
  {
   "cell_type": "markdown",
   "metadata": {},
   "source": [
    "8.5. Calculate Explained Variance"
   ]
  },
  {
   "cell_type": "code",
   "execution_count": 22,
   "metadata": {},
   "outputs": [
    {
     "data": {
      "text/plain": [
       "array([0.60355006, 0.1937999 , 0.11303721, 0.08961282])"
      ]
     },
     "execution_count": 22,
     "metadata": {},
     "output_type": "execute_result"
    }
   ],
   "source": [
    "expldvarpca4 = pca4.explained_variance_ratio_\n",
    "expldvarpca4"
   ]
  },
  {
   "cell_type": "markdown",
   "metadata": {},
   "source": [
    "8.6. Calculate Cumulative Explained Variance"
   ]
  },
  {
   "cell_type": "code",
   "execution_count": 23,
   "metadata": {
    "scrolled": true
   },
   "outputs": [
    {
     "name": "stdout",
     "output_type": "stream",
     "text": [
      "\n",
      "Cumulative sum of the explained variance\n",
      "[0.60355006 0.79734996 0.91038718 1.        ]\n"
     ]
    }
   ],
   "source": [
    "expldvarsum4 = np.cumsum(expldvarpca4)\n",
    "print('\\nCumulative sum of the explained variance')\n",
    "print(expldvarsum4)"
   ]
  },
  {
   "cell_type": "markdown",
   "metadata": {},
   "source": [
    "8.7. Kaiser's value\n",
    "PC1 has an Eigenvalue = 2.445>1"
   ]
  },
  {
   "cell_type": "markdown",
   "metadata": {},
   "source": [
    "8.8. Thresholds for % of cumulative variance\n",
    "8.8.1. 60% -- PC1 satisfy this threshold.\n",
    "\n",
    "8.8.2. 70% -- PC1 & PC2 satisfy this threshold.\n",
    "\n",
    "8.8.3. 80% & 90% (same) -- PC1 & PC2 & PC3 satisfy this threshold."
   ]
  },
  {
   "cell_type": "markdown",
   "metadata": {},
   "source": [
    "8.9. Create dataframe containing PCA values"
   ]
  },
  {
   "cell_type": "code",
   "execution_count": 24,
   "metadata": {},
   "outputs": [
    {
     "name": "stdout",
     "output_type": "stream",
     "text": [
      "         PC1       PC2       PC3       PC4\n",
      "0  -0.591216  1.120419 -0.739575  0.994585\n",
      "1   1.615992  0.286131  0.763648  1.010510\n",
      "2  -1.644376  0.055875  0.700252 -0.432820\n",
      "3   2.806445 -0.742427 -0.229837  0.737825\n",
      "4   0.662450 -1.017549 -0.274396  0.350745\n",
      "..       ...       ...       ...       ...\n",
      "57  1.745896  0.049794  0.073061  0.625717\n",
      "58 -0.144094  2.643883  1.190069 -0.034036\n",
      "59  0.695724  1.874180 -0.769292  0.163062\n",
      "60  2.973264  0.158961  0.468080 -0.692292\n",
      "61 -0.003581  0.489791 -0.728942  0.402951\n",
      "\n",
      "[62 rows x 4 columns]\n"
     ]
    }
   ],
   "source": [
    "pcs4df = pd.DataFrame(pcs4, columns = ['PC1', 'PC2', 'PC3', 'PC4'])\n",
    "print(pcs4df) "
   ]
  },
  {
   "cell_type": "markdown",
   "metadata": {},
   "source": [
    "<hr style=\"border:2px solid black\">\n",
    "\n",
    "# Question 9\n",
    "### Run a linear regression using all the “traditional” independent variables (if transformed, use the transformed versions) and all 4 principal components (the only variables you should not use here are the four “buzz” variables). What are the R2 and adjusted-R2 values? Which variables (if any) are significant at the 0.10 level? In particular, are any of the principal components significant? What can you say about this model vis-a-vis the other models built so far?\n",
    "\n",
    "<hr style=\"border:1px solid black\">"
   ]
  },
  {
   "cell_type": "markdown",
   "metadata": {},
   "source": [
    "9.1. Join logdf with pc4df, remove box (dependent variable)"
   ]
  },
  {
   "cell_type": "code",
   "execution_count": 25,
   "metadata": {},
   "outputs": [],
   "source": [
    "df2 = pd.concat([logdf, pcs4df], axis=1)\n",
    "df2=df2.drop(['addict','cmngsoon','fandango','cntwait3'], axis=1)"
   ]
  },
  {
   "cell_type": "markdown",
   "metadata": {},
   "source": [
    "9.2. Run Regression #5"
   ]
  },
  {
   "cell_type": "code",
   "execution_count": 26,
   "metadata": {},
   "outputs": [
    {
     "name": "stdout",
     "output_type": "stream",
     "text": [
      "                            OLS Regression Results                            \n",
      "==============================================================================\n",
      "Dep. Variable:                    box   R-squared:                       0.624\n",
      "Model:                            OLS   Adj. R-squared:                  0.512\n",
      "Method:                 Least Squares   F-statistic:                     5.576\n",
      "Date:                Sun, 11 Sep 2022   Prob (F-statistic):           3.77e-06\n",
      "Time:                        19:55:31   Log-Likelihood:                -53.492\n",
      "No. Observations:                  62   AIC:                             137.0\n",
      "Df Residuals:                      47   BIC:                             168.9\n",
      "Df Model:                          14                                         \n",
      "Covariance Type:            nonrobust                                         \n",
      "==============================================================================\n",
      "                 coef    std err          t      P>|t|      [0.025      0.975]\n",
      "------------------------------------------------------------------------------\n",
      "G              0.6375      0.600      1.063      0.293      -0.569       1.844\n",
      "PG             0.6054      0.316      1.913      0.062      -0.031       1.242\n",
      "PG13           0.2171      0.220      0.986      0.329      -0.226       0.660\n",
      "budget         0.2344      0.187      1.256      0.215      -0.141       0.610\n",
      "starpowr       0.0012      0.013      0.089      0.930      -0.026       0.028\n",
      "sequel         0.4277      0.305      1.402      0.167      -0.186       1.041\n",
      "action        -0.8419      0.301     -2.801      0.007      -1.447      -0.237\n",
      "comedy        -0.0720      0.255     -0.282      0.779      -0.586       0.442\n",
      "animated      -0.8965      0.437     -2.050      0.046      -1.776      -0.017\n",
      "horror         0.3233      0.370      0.874      0.386      -0.421       1.067\n",
      "const         15.5293      0.675     22.991      0.000      14.170      16.888\n",
      "PC1            0.4183      0.079      5.279      0.000       0.259       0.578\n",
      "PC2            0.1424      0.106      1.341      0.186      -0.071       0.356\n",
      "PC3            0.0091      0.159      0.057      0.955      -0.311       0.329\n",
      "PC4            0.2474      0.180      1.376      0.175      -0.114       0.609\n",
      "==============================================================================\n",
      "Omnibus:                        1.099   Durbin-Watson:                   2.087\n",
      "Prob(Omnibus):                  0.577   Jarque-Bera (JB):                0.502\n",
      "Skew:                          -0.150   Prob(JB):                        0.778\n",
      "Kurtosis:                       3.322   Cond. No.                         179.\n",
      "==============================================================================\n",
      "\n",
      "Warnings:\n",
      "[1] Standard Errors assume that the covariance matrix of the errors is correctly specified.\n"
     ]
    }
   ],
   "source": [
    "linregr5 = sm.OLS(y, df2).fit()\n",
    "print(linregr5.summary())"
   ]
  },
  {
   "cell_type": "markdown",
   "metadata": {},
   "source": [
    "9.3. Results"
   ]
  },
  {
   "cell_type": "markdown",
   "metadata": {},
   "source": [
    "In Regression #5, we found that R-square = 0.624 and Adj. R-square = 0.512. We found that the variables that were statistically significant at the 0.10 level were: \n",
    "-\tPG, where P-value = 0.062 < 0.10\n",
    "-\tAction, where P-value = 0.007 < 0.10\n",
    "-\tAnimated, where P-value = 0.046 < 0.10\n",
    "-\tPC1, where P-value = 0.000 < 0.10"
   ]
  },
  {
   "cell_type": "markdown",
   "metadata": {},
   "source": [
    "<hr style=\"border:2px solid black\">\n",
    "\n",
    "# Question 10\n",
    "### Now run regressions using the number of principal components based on Kaiser’s Rule and “explained variance” thresholds of 60%, 70%, 80% and 90% (if any of the models are identical, point this out and run it only once). Compare all the regression models involving the principal components (including the one involving all four components). Which of these would you recommend, and why?\n",
    "\n",
    "<hr style=\"border:1px solid black\">"
   ]
  },
  {
   "cell_type": "markdown",
   "metadata": {},
   "source": [
    "10.1. Run Regression 10. \n",
    "Kaiser's Rule (aka only PCA 1) + explained variance, threshold = 60% (aka only PCA 1)"
   ]
  },
  {
   "cell_type": "code",
   "execution_count": 27,
   "metadata": {},
   "outputs": [],
   "source": [
    "df3=df2.copy()"
   ]
  },
  {
   "cell_type": "code",
   "execution_count": 28,
   "metadata": {},
   "outputs": [],
   "source": [
    "df3=df3.drop(['PC2','PC3','PC4'], axis=1)"
   ]
  },
  {
   "cell_type": "code",
   "execution_count": 29,
   "metadata": {},
   "outputs": [
    {
     "name": "stdout",
     "output_type": "stream",
     "text": [
      "                            OLS Regression Results                            \n",
      "==============================================================================\n",
      "Dep. Variable:                    box   R-squared:                       0.589\n",
      "Model:                            OLS   Adj. R-squared:                  0.498\n",
      "Method:                 Least Squares   F-statistic:                     6.510\n",
      "Date:                Sun, 11 Sep 2022   Prob (F-statistic):           1.39e-06\n",
      "Time:                        19:55:31   Log-Likelihood:                -56.278\n",
      "No. Observations:                  62   AIC:                             136.6\n",
      "Df Residuals:                      50   BIC:                             162.1\n",
      "Df Model:                          11                                         \n",
      "Covariance Type:            nonrobust                                         \n",
      "==============================================================================\n",
      "                 coef    std err          t      P>|t|      [0.025      0.975]\n",
      "------------------------------------------------------------------------------\n",
      "G              0.3844      0.553      0.695      0.490      -0.727       1.495\n",
      "PG             0.5336      0.300      1.780      0.081      -0.069       1.136\n",
      "PG13           0.2150      0.219      0.983      0.331      -0.225       0.655\n",
      "budget         0.2609      0.185      1.408      0.165      -0.111       0.633\n",
      "starpowr       0.0043      0.013      0.337      0.738      -0.021       0.030\n",
      "sequel         0.2751      0.273      1.007      0.319      -0.274       0.824\n",
      "action        -0.8693      0.293     -2.964      0.005      -1.458      -0.280\n",
      "comedy        -0.0162      0.256     -0.063      0.950      -0.531       0.498\n",
      "animated      -0.8332      0.430     -1.937      0.058      -1.697       0.031\n",
      "horror         0.3746      0.371      1.009      0.318      -0.371       1.120\n",
      "const         15.4002      0.643     23.960      0.000      14.109      16.691\n",
      "PC1            0.4291      0.078      5.473      0.000       0.272       0.587\n",
      "==============================================================================\n",
      "Omnibus:                        1.622   Durbin-Watson:                   2.131\n",
      "Prob(Omnibus):                  0.444   Jarque-Bera (JB):                0.994\n",
      "Skew:                          -0.282   Prob(JB):                        0.608\n",
      "Kurtosis:                       3.260   Cond. No.                         171.\n",
      "==============================================================================\n",
      "\n",
      "Warnings:\n",
      "[1] Standard Errors assume that the covariance matrix of the errors is correctly specified.\n"
     ]
    }
   ],
   "source": [
    "linregr6 = sm.OLS(y, df3).fit()\n",
    "print(linregr6.summary())"
   ]
  },
  {
   "cell_type": "markdown",
   "metadata": {},
   "source": [
    "10.2. Run Regression #7\n",
    "\n",
    "Explained variance, threshold = 70% (aka PCA 1 & 2)"
   ]
  },
  {
   "cell_type": "code",
   "execution_count": 30,
   "metadata": {},
   "outputs": [],
   "source": [
    "df4=df2.copy()\n",
    "\n",
    "df4=df4.drop(['PC3','PC4'], axis=1)"
   ]
  },
  {
   "cell_type": "code",
   "execution_count": 31,
   "metadata": {},
   "outputs": [
    {
     "name": "stdout",
     "output_type": "stream",
     "text": [
      "                            OLS Regression Results                            \n",
      "==============================================================================\n",
      "Dep. Variable:                    box   R-squared:                       0.609\n",
      "Model:                            OLS   Adj. R-squared:                  0.513\n",
      "Method:                 Least Squares   F-statistic:                     6.357\n",
      "Date:                Sun, 11 Sep 2022   Prob (F-statistic):           1.27e-06\n",
      "Time:                        19:55:31   Log-Likelihood:                -54.729\n",
      "No. Observations:                  62   AIC:                             135.5\n",
      "Df Residuals:                      49   BIC:                             163.1\n",
      "Df Model:                          12                                         \n",
      "Covariance Type:            nonrobust                                         \n",
      "==============================================================================\n",
      "                 coef    std err          t      P>|t|      [0.025      0.975]\n",
      "------------------------------------------------------------------------------\n",
      "G              0.4933      0.549      0.898      0.374      -0.611       1.597\n",
      "PG             0.5807      0.297      1.956      0.056      -0.016       1.177\n",
      "PG13           0.2511      0.217      1.158      0.252      -0.185       0.687\n",
      "budget         0.2830      0.183      1.546      0.129      -0.085       0.651\n",
      "starpowr       0.0063      0.013      0.495      0.623      -0.019       0.032\n",
      "sequel         0.3543      0.274      1.295      0.202      -0.196       0.904\n",
      "action        -0.9138      0.290     -3.147      0.003      -1.497      -0.330\n",
      "comedy        -0.0224      0.252     -0.089      0.929      -0.530       0.485\n",
      "animated      -0.8304      0.424     -1.959      0.056      -1.682       0.021\n",
      "horror         0.3254      0.367      0.887      0.379      -0.412       1.063\n",
      "const         15.2565      0.640     23.849      0.000      13.971      16.542\n",
      "PC1            0.4219      0.077      5.454      0.000       0.266       0.577\n",
      "PC2            0.1637      0.103      1.585      0.119      -0.044       0.371\n",
      "==============================================================================\n",
      "Omnibus:                        1.798   Durbin-Watson:                   2.070\n",
      "Prob(Omnibus):                  0.407   Jarque-Bera (JB):                1.232\n",
      "Skew:                          -0.334   Prob(JB):                        0.540\n",
      "Kurtosis:                       3.173   Cond. No.                         172.\n",
      "==============================================================================\n",
      "\n",
      "Warnings:\n",
      "[1] Standard Errors assume that the covariance matrix of the errors is correctly specified.\n"
     ]
    }
   ],
   "source": [
    "linregr7 = sm.OLS(y, df4).fit()\n",
    "print(linregr7.summary())"
   ]
  },
  {
   "cell_type": "markdown",
   "metadata": {},
   "source": [
    "10.3. Run Regression #8\n",
    "\n",
    "Explained variance, threshold = 80% & 90% (aka PCA 1, 2 & 3)"
   ]
  },
  {
   "cell_type": "code",
   "execution_count": 32,
   "metadata": {},
   "outputs": [],
   "source": [
    "df5=df2.copy()\n",
    "df5=df5.drop(['PC4'], axis=1)"
   ]
  },
  {
   "cell_type": "code",
   "execution_count": 33,
   "metadata": {},
   "outputs": [
    {
     "name": "stdout",
     "output_type": "stream",
     "text": [
      "                            OLS Regression Results                            \n",
      "==============================================================================\n",
      "Dep. Variable:                    box   R-squared:                       0.609\n",
      "Model:                            OLS   Adj. R-squared:                  0.503\n",
      "Method:                 Least Squares   F-statistic:                     5.752\n",
      "Date:                Sun, 11 Sep 2022   Prob (F-statistic):           3.32e-06\n",
      "Time:                        19:55:31   Log-Likelihood:                -54.715\n",
      "No. Observations:                  62   AIC:                             137.4\n",
      "Df Residuals:                      48   BIC:                             167.2\n",
      "Df Model:                          13                                         \n",
      "Covariance Type:            nonrobust                                         \n",
      "==============================================================================\n",
      "                 coef    std err          t      P>|t|      [0.025      0.975]\n",
      "------------------------------------------------------------------------------\n",
      "G              0.4635      0.592      0.783      0.437      -0.726       1.653\n",
      "PG             0.5654      0.318      1.778      0.082      -0.074       1.205\n",
      "PG13           0.2467      0.221      1.115      0.270      -0.198       0.691\n",
      "budget         0.2831      0.185      1.531      0.132      -0.089       0.655\n",
      "starpowr       0.0059      0.013      0.448      0.656      -0.021       0.032\n",
      "sequel         0.3372      0.301      1.121      0.268      -0.267       0.942\n",
      "action        -0.9212      0.298     -3.094      0.003      -1.520      -0.323\n",
      "comedy        -0.0214      0.255     -0.084      0.933      -0.534       0.491\n",
      "animated      -0.8174      0.437     -1.868      0.068      -1.697       0.062\n",
      "horror         0.3317      0.373      0.889      0.379      -0.419       1.082\n",
      "const         15.2721      0.655     23.314      0.000      13.955      16.589\n",
      "PC1            0.4243      0.080      5.313      0.000       0.264       0.585\n",
      "PC2            0.1607      0.106      1.512      0.137      -0.053       0.375\n",
      "PC3            0.0232      0.160      0.145      0.885      -0.299       0.345\n",
      "==============================================================================\n",
      "Omnibus:                        1.768   Durbin-Watson:                   2.068\n",
      "Prob(Omnibus):                  0.413   Jarque-Bera (JB):                1.219\n",
      "Skew:                          -0.334   Prob(JB):                        0.544\n",
      "Kurtosis:                       3.158   Cond. No.                         173.\n",
      "==============================================================================\n",
      "\n",
      "Warnings:\n",
      "[1] Standard Errors assume that the covariance matrix of the errors is correctly specified.\n"
     ]
    }
   ],
   "source": [
    "linregr8 = sm.OLS(y, df5).fit()\n",
    "print(linregr8.summary())"
   ]
  },
  {
   "attachments": {},
   "cell_type": "markdown",
   "metadata": {},
   "source": [
    "We would recommend Regression #7 because it has the highest Adj. R-square at 0.513 and only includes PC1 and PC2."
   ]
  },
  {
   "cell_type": "markdown",
   "metadata": {},
   "source": [
    "<hr style=\"border:2px solid black\">\n",
    "\n",
    "# Question 11\n",
    "### Now apply Principal Component Analysis to the 4 “buzz” variables and the other continuous variables (budget and starpowr). Again, use transformed versions of the variables if any were transformed and standardize the variables first. What are the eigen values associated with each component? How many principal components are selected using Kaiser’s Rule, and using “explained variance” thresholds of 60%, 70%, 80% and 90%?\n",
    "\n",
    "<hr style=\"border:1px solid black\">"
   ]
  },
  {
   "cell_type": "markdown",
   "metadata": {},
   "source": [
    "11.1. Prepare dataframe for PCA"
   ]
  },
  {
   "cell_type": "code",
   "execution_count": 34,
   "metadata": {},
   "outputs": [],
   "source": [
    "df6=lbuzz_df.copy()\n",
    "df6=df6.drop(['box','G','PG','PG13','sequel','action','comedy','animated','horror'], axis=1)"
   ]
  },
  {
   "cell_type": "markdown",
   "metadata": {},
   "source": [
    "11.2. Standardize the data"
   ]
  },
  {
   "cell_type": "code",
   "execution_count": 35,
   "metadata": {},
   "outputs": [],
   "source": [
    "#standardize the data\n",
    "sc = prep.StandardScaler()\n",
    "sX = pd.DataFrame(sc.fit_transform(df6), columns = df6.columns)\n",
    "# StandardScaler uses the population variance/standard deviation\n",
    "# calculate the sample standard deviation of the result and scale by dividing with it \n",
    "sc.scale_ = np.std(sX, axis=0, ddof=1).to_list()\n",
    "#print(sc.scale_)\n",
    "sX = sX/sc.scale_"
   ]
  },
  {
   "cell_type": "markdown",
   "metadata": {},
   "source": [
    "11.3. Perform PCA"
   ]
  },
  {
   "cell_type": "code",
   "execution_count": 36,
   "metadata": {},
   "outputs": [],
   "source": [
    "# create pca object\n",
    "# not specifying the number of components results in all variables being used\n",
    "pca6 = PCA()\n",
    "#pass the feature set \n",
    "# fit calculates parameters; transform applies the transformation\n",
    "pcs6 = pca6.fit_transform(sX)"
   ]
  },
  {
   "cell_type": "markdown",
   "metadata": {},
   "source": [
    "11.4. Eigen Values"
   ]
  },
  {
   "cell_type": "code",
   "execution_count": 37,
   "metadata": {},
   "outputs": [
    {
     "name": "stdout",
     "output_type": "stream",
     "text": [
      "\n",
      "Eigen Values of Correlation Matrix\n",
      "[2.83823382 1.45442671 0.70232212 0.44299297 0.34049709 0.2215273 ]\n"
     ]
    }
   ],
   "source": [
    "print('\\nEigen Values of Correlation Matrix')\n",
    "print(pca6.explained_variance_)"
   ]
  },
  {
   "cell_type": "markdown",
   "metadata": {},
   "source": [
    "11.5. Explained Variance"
   ]
  },
  {
   "cell_type": "code",
   "execution_count": 38,
   "metadata": {},
   "outputs": [
    {
     "data": {
      "text/plain": [
       "array([0.47303897, 0.24240445, 0.11705369, 0.07383216, 0.05674951,\n",
       "       0.03692122])"
      ]
     },
     "execution_count": 38,
     "metadata": {},
     "output_type": "execute_result"
    }
   ],
   "source": [
    "expldvarpca6 = pca6.explained_variance_ratio_\n",
    "expldvarpca6"
   ]
  },
  {
   "cell_type": "markdown",
   "metadata": {},
   "source": [
    "11.6. Cumulative Explained Variance"
   ]
  },
  {
   "cell_type": "code",
   "execution_count": 39,
   "metadata": {},
   "outputs": [
    {
     "name": "stdout",
     "output_type": "stream",
     "text": [
      "\n",
      "Cumulative sum of the explained variance\n",
      "[0.47303897 0.71544342 0.83249711 0.90632927 0.96307878 1.        ]\n"
     ]
    }
   ],
   "source": [
    "expldvarsum6 = np.cumsum(expldvarpca6)\n",
    "print('\\nCumulative sum of the explained variance')\n",
    "print(expldvarsum6)"
   ]
  },
  {
   "cell_type": "markdown",
   "metadata": {},
   "source": [
    "11.7. Create dataframe for PCA values"
   ]
  },
  {
   "cell_type": "code",
   "execution_count": 40,
   "metadata": {},
   "outputs": [
    {
     "name": "stdout",
     "output_type": "stream",
     "text": [
      "         PC1       PC2       PC3       PC4       PC5       PC6\n",
      "0   0.727800  0.038162  1.204158  1.123466 -0.117357 -0.448392\n",
      "1  -2.637946 -1.370233  1.077239 -0.251879  0.013417 -0.366720\n",
      "2   1.542932 -0.469245  0.076520 -0.857879  0.278870  0.224304\n",
      "3  -3.605130 -0.458782 -0.388755  0.345631  0.690654 -0.445240\n",
      "4  -1.453419 -0.892621 -0.777003  0.150703  1.127304 -0.218117\n",
      "..       ...       ...       ...       ...       ...       ...\n",
      "57 -2.870020 -1.454298  0.723402  0.275331  0.139703  0.201002\n",
      "58  1.015619  2.049672  2.170410 -1.181606  0.225858 -0.428071\n",
      "59  0.412522  2.404608  1.172586  0.762127 -0.042936 -0.285026\n",
      "60 -2.919339  1.181531 -0.091520 -0.711417  0.114676  0.378143\n",
      "61  0.933144  1.094761  0.242295  1.012984 -1.199726 -0.388103\n",
      "\n",
      "[62 rows x 6 columns]\n"
     ]
    }
   ],
   "source": [
    "pcs6df = pd.DataFrame(pcs6, columns = ['PC1', 'PC2', 'PC3', 'PC4','PC5','PC6'])\n",
    "print(pcs6df) "
   ]
  },
  {
   "cell_type": "markdown",
   "metadata": {},
   "source": [
    "11.8. Kaiser's Rule & Explained Variance Threshold = 60% & = 70%\n",
    "\n",
    "PC1 PC2\n",
    "\n",
    "11.9. Explained variance threshold = 80%\n",
    "\n",
    "PC1 PC2 PC3\n",
    "\n",
    "11.10. Explained variance threshold = 90%\n",
    "\n",
    "PC1 PC2 PC3 PC4"
   ]
  },
  {
   "cell_type": "markdown",
   "metadata": {},
   "source": [
    "<hr style=\"border:1px solid black\">\n",
    "\n",
    "# Question 12\n",
    "### Next, run regressions using the number of principal components based on Kaiser’s Rule and “explained variance” thresholds of 60%, 70% , 80% and 90%. Compare these regression models and explain which one you would recommend, and why?\n",
    "\n",
    "<hr style=\"border:1px solid black\">"
   ]
  },
  {
   "cell_type": "markdown",
   "metadata": {},
   "source": [
    "12.1. Kaiser's Rule & Explained Variance Threshold = 60% & = 70%\n",
    "\n",
    "(PC1 PC2)"
   ]
  },
  {
   "cell_type": "code",
   "execution_count": 41,
   "metadata": {},
   "outputs": [],
   "source": [
    "#create new df\n",
    "df7=pcs6df.copy()\n",
    "df8=logdf.copy()"
   ]
  },
  {
   "cell_type": "code",
   "execution_count": 42,
   "metadata": {},
   "outputs": [],
   "source": [
    "#add PCA dataframe to main df\n",
    "df9 = pd.concat([df8, df7], axis=1)"
   ]
  },
  {
   "cell_type": "markdown",
   "metadata": {},
   "source": [
    "12.1.1. Run Regression #9"
   ]
  },
  {
   "cell_type": "code",
   "execution_count": 43,
   "metadata": {},
   "outputs": [
    {
     "name": "stdout",
     "output_type": "stream",
     "text": [
      "                            OLS Regression Results                            \n",
      "==============================================================================\n",
      "Dep. Variable:                    box   R-squared:                       0.431\n",
      "Model:                            OLS   Adj. R-squared:                  0.411\n",
      "Method:                 Least Squares   F-statistic:                     22.31\n",
      "Date:                Sun, 11 Sep 2022   Prob (F-statistic):           6.10e-08\n",
      "Time:                        19:55:32   Log-Likelihood:                -66.372\n",
      "No. Observations:                  62   AIC:                             138.7\n",
      "Df Residuals:                      59   BIC:                             145.1\n",
      "Df Model:                           2                                         \n",
      "Covariance Type:            nonrobust                                         \n",
      "==============================================================================\n",
      "                 coef    std err          t      P>|t|      [0.025      0.975]\n",
      "------------------------------------------------------------------------------\n",
      "const         16.4799      0.092    179.349      0.000      16.296      16.664\n",
      "PC1           -0.3632      0.055     -6.605      0.000      -0.473      -0.253\n",
      "PC2            0.0762      0.077      0.992      0.325      -0.077       0.230\n",
      "==============================================================================\n",
      "Omnibus:                        9.150   Durbin-Watson:                   1.673\n",
      "Prob(Omnibus):                  0.010   Jarque-Bera (JB):                8.658\n",
      "Skew:                          -0.801   Prob(JB):                       0.0132\n",
      "Kurtosis:                       3.886   Cond. No.                         1.67\n",
      "==============================================================================\n",
      "\n",
      "Warnings:\n",
      "[1] Standard Errors assume that the covariance matrix of the errors is correctly specified.\n"
     ]
    }
   ],
   "source": [
    "df10=df9.copy()\n",
    "df10=df9.drop(['budget','starpowr','addict','cmngsoon','fandango','cntwait3','G','PG','PG13','sequel','action','comedy','animated','horror','PC3','PC4','PC5','PC6'],axis=1)\n",
    "linregr9 = sm.OLS(y, df10).fit()\n",
    "print(linregr9.summary())"
   ]
  },
  {
   "cell_type": "markdown",
   "metadata": {},
   "source": [
    "12.2. Explained Variance Threshold = 80%\n",
    "\n",
    "(PC1 PC2 PC3)"
   ]
  },
  {
   "cell_type": "markdown",
   "metadata": {},
   "source": [
    "12.2.1. Run Regression #10"
   ]
  },
  {
   "cell_type": "code",
   "execution_count": 44,
   "metadata": {},
   "outputs": [
    {
     "name": "stdout",
     "output_type": "stream",
     "text": [
      "                            OLS Regression Results                            \n",
      "==============================================================================\n",
      "Dep. Variable:                    box   R-squared:                       0.448\n",
      "Model:                            OLS   Adj. R-squared:                  0.420\n",
      "Method:                 Least Squares   F-statistic:                     15.72\n",
      "Date:                Sun, 11 Sep 2022   Prob (F-statistic):           1.35e-07\n",
      "Time:                        19:55:32   Log-Likelihood:                -65.385\n",
      "No. Observations:                  62   AIC:                             138.8\n",
      "Df Residuals:                      58   BIC:                             147.3\n",
      "Df Model:                           3                                         \n",
      "Covariance Type:            nonrobust                                         \n",
      "==============================================================================\n",
      "                 coef    std err          t      P>|t|      [0.025      0.975]\n",
      "------------------------------------------------------------------------------\n",
      "const         16.4799      0.091    180.676      0.000      16.297      16.663\n",
      "PC1           -0.3632      0.055     -6.654      0.000      -0.472      -0.254\n",
      "PC2            0.0762      0.076      0.999      0.322      -0.076       0.229\n",
      "PC3            0.1503      0.110      1.370      0.176      -0.069       0.370\n",
      "==============================================================================\n",
      "Omnibus:                        8.926   Durbin-Watson:                   1.619\n",
      "Prob(Omnibus):                  0.012   Jarque-Bera (JB):                8.351\n",
      "Skew:                          -0.811   Prob(JB):                       0.0154\n",
      "Kurtosis:                       3.777   Cond. No.                         2.01\n",
      "==============================================================================\n",
      "\n",
      "Warnings:\n",
      "[1] Standard Errors assume that the covariance matrix of the errors is correctly specified.\n"
     ]
    }
   ],
   "source": [
    "df11=df9.copy()\n",
    "df11=df11.drop(['G','PG','PG13','sequel','action','comedy','animated','horror','budget','starpowr','addict','cmngsoon','fandango','cntwait3','PC4','PC5','PC6'],axis=1)\n",
    "linregr10 = sm.OLS(y, df11).fit()\n",
    "print(linregr10.summary())"
   ]
  },
  {
   "cell_type": "markdown",
   "metadata": {},
   "source": [
    "12.3. Explained Variance Threshold = 90%\n",
    "\n",
    "(PC1 PC2 PC3 PC4)"
   ]
  },
  {
   "cell_type": "markdown",
   "metadata": {},
   "source": [
    "12.3.1. Run Regression #11"
   ]
  },
  {
   "cell_type": "code",
   "execution_count": 45,
   "metadata": {},
   "outputs": [
    {
     "name": "stdout",
     "output_type": "stream",
     "text": [
      "                            OLS Regression Results                            \n",
      "==============================================================================\n",
      "Dep. Variable:                    box   R-squared:                       0.451\n",
      "Model:                            OLS   Adj. R-squared:                  0.412\n",
      "Method:                 Least Squares   F-statistic:                     11.69\n",
      "Date:                Sun, 11 Sep 2022   Prob (F-statistic):           5.34e-07\n",
      "Time:                        19:55:32   Log-Likelihood:                -65.262\n",
      "No. Observations:                  62   AIC:                             140.5\n",
      "Df Residuals:                      57   BIC:                             151.2\n",
      "Df Model:                           4                                         \n",
      "Covariance Type:            nonrobust                                         \n",
      "==============================================================================\n",
      "                 coef    std err          t      P>|t|      [0.025      0.975]\n",
      "------------------------------------------------------------------------------\n",
      "const         16.4799      0.092    179.467      0.000      16.296      16.664\n",
      "PC1           -0.3632      0.055     -6.610      0.000      -0.473      -0.253\n",
      "PC2            0.0762      0.077      0.993      0.325      -0.078       0.230\n",
      "PC3            0.1503      0.110      1.360      0.179      -0.071       0.371\n",
      "PC4            0.0662      0.139      0.476      0.636      -0.212       0.345\n",
      "==============================================================================\n",
      "Omnibus:                        7.903   Durbin-Watson:                   1.632\n",
      "Prob(Omnibus):                  0.019   Jarque-Bera (JB):                7.152\n",
      "Skew:                          -0.741   Prob(JB):                       0.0280\n",
      "Kurtosis:                       3.755   Cond. No.                         2.53\n",
      "==============================================================================\n",
      "\n",
      "Warnings:\n",
      "[1] Standard Errors assume that the covariance matrix of the errors is correctly specified.\n"
     ]
    }
   ],
   "source": [
    "df12=df9.copy()\n",
    "df12=df12.drop(['budget','G','PG','PG13','sequel','action','comedy','animated','horror','starpowr','addict','cmngsoon','fandango','cntwait3','PC5','PC6'],axis=1)\n",
    "linregr11 = sm.OLS(y, df12).fit()\n",
    "print(linregr11.summary())"
   ]
  },
  {
   "attachments": {},
   "cell_type": "markdown",
   "metadata": {},
   "source": [
    "We believe that the Regression #10 is the best model because it has the highest Adj. R-Square and includes only PC1, PC2 and PC3."
   ]
  },
  {
   "cell_type": "markdown",
   "metadata": {},
   "source": [
    "<hr style=\"border:1px solid black\">\n",
    "\n",
    "# Question 13\n",
    "### Are the “buzz” variables helping build a better model? How about PCA?\n",
    "\n",
    "<hr style=\"border:1px solid black\">"
   ]
  },
  {
   "cell_type": "markdown",
   "metadata": {},
   "source": [
    "13.1. Impact of Buzz Variables on models"
   ]
  },
  {
   "attachments": {},
   "cell_type": "markdown",
   "metadata": {},
   "source": [
    "To determine whether buzz variables have helped build a better model, we will compare Regression 1 to Regression 3. Regression 1 excluded buzz variables, while Regression 3 did not. The results show that R-square and Adj. R-square almost doubled from Regression 1 to Regression 3. Furthermore, we found more statistically significant variables when we included buzz variables. Hence, we can conclude that buzz variables have helped us build better models. "
   ]
  },
  {
   "cell_type": "markdown",
   "metadata": {},
   "source": [
    "13.2. Run Regression #12 to properly assess the impact of PCA."
   ]
  },
  {
   "cell_type": "code",
   "execution_count": 46,
   "metadata": {},
   "outputs": [],
   "source": [
    "df13=logdf.copy()\n",
    "df13=df13.drop(['G','PG','PG13','sequel','action','comedy','animated','horror'],axis=1)"
   ]
  },
  {
   "cell_type": "code",
   "execution_count": 47,
   "metadata": {},
   "outputs": [
    {
     "name": "stdout",
     "output_type": "stream",
     "text": [
      "                            OLS Regression Results                            \n",
      "==============================================================================\n",
      "Dep. Variable:                    box   R-squared:                       0.475\n",
      "Model:                            OLS   Adj. R-squared:                  0.418\n",
      "Method:                 Least Squares   F-statistic:                     8.291\n",
      "Date:                Sun, 11 Sep 2022   Prob (F-statistic):           2.07e-06\n",
      "Time:                        19:55:32   Log-Likelihood:                -63.859\n",
      "No. Observations:                  62   AIC:                             141.7\n",
      "Df Residuals:                      55   BIC:                             156.6\n",
      "Df Model:                           6                                         \n",
      "Covariance Type:            nonrobust                                         \n",
      "==============================================================================\n",
      "                 coef    std err          t      P>|t|      [0.025      0.975]\n",
      "------------------------------------------------------------------------------\n",
      "budget         0.0647      0.182      0.355      0.724      -0.301       0.430\n",
      "starpowr       0.0017      0.014      0.117      0.907      -0.027       0.030\n",
      "addict         0.2301      0.120      1.916      0.061      -0.011       0.471\n",
      "cmngsoon      -0.0119      0.119     -0.100      0.921      -0.251       0.227\n",
      "fandango       0.0634      0.124      0.510      0.612      -0.186       0.313\n",
      "cntwait3       2.8710      0.985      2.915      0.005       0.897       4.845\n",
      "const         12.6103      0.985     12.805      0.000      10.637      14.584\n",
      "==============================================================================\n",
      "Omnibus:                        4.879   Durbin-Watson:                   1.674\n",
      "Prob(Omnibus):                  0.087   Jarque-Bera (JB):                3.913\n",
      "Skew:                          -0.521   Prob(JB):                        0.141\n",
      "Kurtosis:                       3.655   Cond. No.                         277.\n",
      "==============================================================================\n",
      "\n",
      "Warnings:\n",
      "[1] Standard Errors assume that the covariance matrix of the errors is correctly specified.\n"
     ]
    }
   ],
   "source": [
    "linregr12 = sm.OLS(y, df13).fit()\n",
    "print(linregr12.summary())"
   ]
  },
  {
   "attachments": {},
   "cell_type": "markdown",
   "metadata": {},
   "source": [
    "To determine whether performing PCA has helped us build a better model, we will compare Regression #3 (which used the buzz variables) and Regression #7 (which is the best model after we performed PCA on the buzz variables). We will also compare Regression #10 (which is the best model after we performed PCA on 6 variables) to Regression #12 (which used the same 6 variables we converted). In both cases, we can see that Adjusted R-square is higher when we performed PCA and chose the best model than when we simply used the raw variables. Hence, we can conclude that using PCA has helped us build better models. "
   ]
  },
  {
   "cell_type": "markdown",
   "metadata": {},
   "source": [
    "<hr style=\"border:1px solid black\">\n",
    "\n",
    "# Question 14\n",
    "### Did you learn anything surprising while doing these analyses? Can you provide some managerial takeaways?\n",
    "\n",
    "<hr style=\"border:1px solid black\">"
   ]
  },
  {
   "attachments": {},
   "cell_type": "markdown",
   "metadata": {},
   "source": [
    "In terms of the techniques used, these analyses allowed us to witness the impact that PCA can have in regression models. For instance, it was surprising the effect that different thresholds for Principal Component Selection can have. We found that, often, the optimal model was neither the most restrictive one (meaning that we would impose the strictest thresholds) nor the one that included the most number of PCs, but somewhere in the middle. Hence, testing different thresholds was key to finding our optimal models. \n",
    "\n",
    "In terms of the managerial insights we can learn from this exercise, we found that a few variables had consistent effects when predicting Box Revenue for a film. First, we found that buzz variables were very important predictors for the box revenue. While we first believed that budget and starpowr would be key drivers of revenue at the beginning of the analysis, these variables became less and less significant as we dove into the models performed. Finally, we found that the genre of the film was also a key driver as these variables stayed statistically significant throughout our analysis. Hence, we can argue that some genres are more likely to perform well than others. For instance, Action and Animated (as genres) are likely to decrease Box Revenue due to their negative coefficients, while PG is likely to increase revenue. "
   ]
  }
 ],
 "metadata": {
  "kernelspec": {
   "display_name": "Python 3",
   "language": "python",
   "name": "python3"
  },
  "language_info": {
   "codemirror_mode": {
    "name": "ipython",
    "version": 3
   },
   "file_extension": ".py",
   "mimetype": "text/x-python",
   "name": "python",
   "nbconvert_exporter": "python",
   "pygments_lexer": "ipython3",
   "version": "3.8.3"
  }
 },
 "nbformat": 4,
 "nbformat_minor": 4
}
